{
  "nbformat": 4,
  "nbformat_minor": 0,
  "metadata": {
    "colab": {
      "private_outputs": true,
      "provenance": [],
      "authorship_tag": "ABX9TyOXIwf1avEBWLf93yfnNUmb",
      "include_colab_link": true
    },
    "kernelspec": {
      "name": "python3",
      "display_name": "Python 3"
    },
    "language_info": {
      "name": "python"
    }
  },
  "cells": [
    {
      "cell_type": "markdown",
      "metadata": {
        "id": "view-in-github",
        "colab_type": "text"
      },
      "source": [
        "<a href=\"https://colab.research.google.com/github/heavidevi/experiment-with-python/blob/main/OOPs.ipynb\" target=\"_parent\"><img src=\"https://colab.research.google.com/assets/colab-badge.svg\" alt=\"Open In Colab\"/></a>"
      ]
    },
    {
      "cell_type": "code",
      "execution_count": null,
      "metadata": {
        "id": "jJEs6strNoP1"
      },
      "outputs": [],
      "source": [
        "#OOP1\n",
        "class GameElement:\n",
        "    def __init__(self,x,y,w,h,n):\n",
        "        self.__PositionX=int(x)\n",
        "        self.__PositionY=int(y)\n",
        "        self.__Width=int(w)\n",
        "        self.__Height=int(h)\n",
        "        self.__ImageFileName=str(n)\n",
        "    def GetDetails(self):\n",
        "\n",
        "        return self.__PositionX, self.__PositionY, self.__Width,self.__Height,self.__ImageFileName\n",
        "\n",
        "\n",
        "class Scenery(GameElement):\n",
        "    def __init__(self,x,y,w,h,n,cd,dp):\n",
        "        super().__init__(x,y,w,h,n)\n",
        "\n",
        "        self.__CauseDamage=cd\n",
        "        self.__DamagePoints=dp\n",
        "\n",
        "    def GiveDamagePoints(self):\n",
        "        if self.__CauseDamage==True:\n",
        "            return self.__DamagePoints\n",
        "\n",
        "    def GetScenery(self):\n",
        "\n",
        "\n",
        "        return super().GetDetails(),self.__CauseDamage,self.__DamagePoints\n",
        "\n",
        "\n",
        "GiftBox=Scenery(150,150,50,75,\"box.png\",True,50)\n",
        "GiftBox.GetScenery()\n"
      ]
    },
    {
      "cell_type": "code",
      "source": [
        "#OOP2\n",
        "import random\n",
        "class Animal:\n",
        "    def __init__(self,a=random.randint(0,39),d=random.randint(0,39)):\n",
        "        self.__Score=0\n",
        "        self.__Acorss=a\n",
        "        self.__Down=d\n",
        "\n",
        "    def GenerateChangeInCoordinate(coord):\n",
        "        if coord==0:\n",
        "            return random.randint(0,1)\n",
        "        elif coord==39:\n",
        "            return random.randint(-1,0)\n",
        "        else:\n",
        "            return random.randint(-1,1)\n",
        "\n",
        "    def Move(self):\n",
        "\n",
        "        self.__Across +=self.GenerateChangeInCoordinate(self.__Across)\n",
        "        self.__Down +=self.GenerateChangeInCoordinate(self.__Across)\n",
        "        if self.__\n",
        "\n",
        "\n",
        "\n",
        "\n",
        "    def setAcorss(self,A):\n",
        "        self.__Across=A\n",
        "    def GetAcross(self):\n",
        "        return self.__Across\n",
        "\n",
        "def GenerateChangeInCoordinate(coord):\n",
        "    if coord==0:\n",
        "        return random.randint(0,1)\n",
        "    elif coord==39:\n",
        "        return random.randint(-1,0)\n",
        "    else:\n",
        "        return random.randint(-1,1)"
      ],
      "metadata": {
        "id": "Rw5MKpoZjJty"
      },
      "execution_count": null,
      "outputs": []
    },
    {
      "cell_type": "code",
      "source": [
        "#oop3\n",
        "class taxi:\n",
        "    def __init__(self,r,t):\n",
        "        self.registeration=r\n",
        "        self.charge=t\n",
        "\n",
        "class Car(taxi):\n",
        "    def __init__(self,r,t,p):\n",
        "        super().__init__(r,t)\n",
        "\n",
        "        if p<=4 :\n",
        "\n",
        "            self.passenger=p\n",
        "\n",
        "        else:\n",
        "            raise ValueError(\"passenger not max than 4\")\n",
        "\n",
        "class minibus(taxi):\n",
        "    def __init__(self,r,t,b,p):\n",
        "        super().__init__(r,t,p)\n",
        "        self.booking=b\n",
        "        self.maxperson=p"
      ],
      "metadata": {
        "id": "NA7pVcgh8VQe"
      },
      "execution_count": null,
      "outputs": []
    },
    {
      "cell_type": "code",
      "source": [
        "#oop4\n",
        "class StockItem:\n",
        "    def __init__(self,t,l,d):\n",
        "        self.__title=t\n",
        "        self.__loan=l\n",
        "        self.__data=d\n",
        "    def ShowTitle(Self):\n",
        "        return self.__title\n",
        "\n",
        "class Book(StockItem):\n",
        "    def __init__(self,t,l,d,isbn,a):\n",
        "        super().__init__(t,l,d)\n",
        "        self.ISBN=isbn\n",
        "        self.author=a\n",
        "    def showauthor(self):\n",
        "        return self.author\n",
        "    def showisbn(self):\n",
        "        return self.ISBN\n",
        "\n",
        "NewBook=Book(\"computer\",False,\"12/11/2001\",\"099111\",\"A.Nyone\")"
      ],
      "metadata": {
        "id": "SHnRg_Y6QLt1"
      },
      "execution_count": null,
      "outputs": []
    },
    {
      "cell_type": "code",
      "source": [
        "#oop5\n",
        "class Employee:\n",
        "    def __init__(self,n,i,a):\n",
        "        self.__EmployeeName=n\n",
        "        self.__EmployeeID=i\n",
        "        self.__AmountPaidThisMonth=a\n",
        "    def SetEmployeeName(self,n):\n",
        "        self.__EmployeeName=n\n",
        "    def SetEmployeeID(self,id):\n",
        "        self.__EmployeeID=id\n",
        "    def CalculatePay(self,a):\n",
        "        self.__AmountPaidThisMonth=a"
      ],
      "metadata": {
        "id": "Ipz1ATM-V9Jh"
      },
      "execution_count": null,
      "outputs": []
    },
    {
      "cell_type": "code",
      "source": [
        "#Write a class that, when given a string, will return an uppercase string with each letter shifted forward in the alphabet by however many spots the cipher was initialized to.\n",
        "class ceasercipher:\n",
        "    def __init__(self,n):\n",
        "        self.shift=n\n",
        "        self.alphabet=[\"a\",\"b\",\"c\",\"d\",\"e\",\"f\",\"g\",\"h\",\"i\",\"j\",\"k\",\"l\",\"m\",\"n\",\"o\",\"q\",\"r\",\"s\",\"t\",\"u\",\"v\",\"w\",\"x\",\"y\",\"z\"]\n",
        "    def encode(self,text):\n",
        "        self.newlist=\"\"\n",
        "        for n in range(len(text)):\n",
        "            if self.shift+self.alphabet.index(text[n])>26:\n",
        "                coord=26-(self.shift+self.alphabet.index(text[n]))\n",
        "                self.newlist += self.alphabet[coord]\n",
        "            else:\n",
        "                self.newlist += self.alphabet[self.alphabet.index(text[n])+self.shift]\n",
        "\n",
        "        print(self.newlist)\n",
        "    def decode(self,text):\n",
        "        self.oldlist=\"\"\n",
        "        for n in range(len(text)):\n",
        "            if self.alphabet.index(text[n])-self.shift<0:\n",
        "                coord=0-(self.shift+self.alphabet.index(text[n]))\n",
        "                self.oldlist += self.alphabet[coord]\n",
        "            else:\n",
        "                self.oldlist += self.alphabet[self.alphabet.index(text[n])-self.shift]\n",
        "\n",
        "        print(self.oldlist)\n",
        "\n",
        "\n",
        "\n"
      ],
      "metadata": {
        "id": "ru0scs8q6eY7"
      },
      "execution_count": null,
      "outputs": []
    },
    {
      "cell_type": "code",
      "source": [
        "#\n",
        "class Paginationhelper:\n",
        "    def __init__(self,array,wpp):\n",
        "        self.array=array\n",
        "        self.PerPage=wpp\n",
        "    def page_count(self):\n",
        "        page=1\n",
        "        length=len(self.array)\n",
        "\n",
        "        while length-self.PerPage>0:\n",
        "            length=length-self.PerPage\n",
        "\n",
        "        return page\n",
        "    def item_count(self):\n",
        "        return len(self.array)\n",
        "    def page_item_count(self,n):\n",
        "        numberofpages=1\n",
        "\n",
        "        try:\n",
        "            for f in range(n*self.PerPage):\n",
        "                if f >= self.PerPage-1:\n",
        "\n",
        "                    numberofpages += 1\n",
        "        except:\n",
        "            numberofpages=1\n",
        "        if n+1 < numberofpages :\n",
        "            numberofpages=-1\n",
        "\n",
        "        return numberofpages\n",
        "\n",
        "\n",
        "\n",
        "    def page_index(self,index):\n",
        "        #same a page_count\n",
        "\n",
        "\n",
        "helper = Paginationhelper(['a','b','c','d','e','f'], 4)\n",
        " # last page - should == 2\n",
        "\n",
        "\n",
        "\n",
        "\n"
      ],
      "metadata": {
        "id": "K_-PjVuaXpui"
      },
      "execution_count": null,
      "outputs": []
    }
  ]
}