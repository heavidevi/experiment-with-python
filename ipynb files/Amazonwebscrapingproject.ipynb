{
  "nbformat": 4,
  "nbformat_minor": 0,
  "metadata": {
    "colab": {
      "private_outputs": true,
      "provenance": [],
      "authorship_tag": "ABX9TyPVjsDON0XbDw4rirjBuj9h",
      "include_colab_link": true
    },
    "kernelspec": {
      "name": "python3",
      "display_name": "Python 3"
    },
    "language_info": {
      "name": "python"
    }
  },
  "cells": [
    {
      "cell_type": "markdown",
      "metadata": {
        "id": "view-in-github",
        "colab_type": "text"
      },
      "source": [
        "<a href=\"https://colab.research.google.com/github/heavidevi/experiment-with-python/blob/main/ipynb%20files/Amazonwebscrapingproject.ipynb\" target=\"_parent\"><img src=\"https://colab.research.google.com/assets/colab-badge.svg\" alt=\"Open In Colab\"/></a>"
      ]
    },
    {
      "cell_type": "code",
      "source": [
        "from bs4 import BeautifulSoup\n",
        "import requests\n",
        "import time\n",
        "import datetime\n",
        "\n",
        "import smtplib\n",
        "# Connect to Website and pull in data\n",
        "\n",
        "URL = 'https://www.amazon.com/Funny-Data-Systems-Business-Analyst/dp/B07FNW9FGJ/ref=sr_1_3?dchild=1&keywords=data%2Banalyst%2Btshirt&qid=1626655184&sr=8-3&customId=B0752XJYNL&th=1'\n",
        "\n",
        "headers = {\"User-Agent\": \"Mozilla/5.0 (Windows NT 10.0; Win64; x64) AppleWebKit/537.36 (KHTML, like Gecko) Chrome/78.0.3904.108 Safari/537.36\", \"Accept-Encoding\":\"gzip, deflate\", \"Accept\":\"text/html,application/xhtml+xml,application/xml;q=0.9,*/*;q=0.8\", \"DNT\":\"1\",\"Connection\":\"close\", \"Upgrade-Insecure-Requests\":\"1\"}\n",
        "\n",
        "page = requests.get(URL, headers=headers)\n",
        "\n",
        "soup1 = BeautifulSoup(page.content, \"html.parser\")\n",
        "\n",
        "soup2 = BeautifulSoup(soup1.prettify(), \"html.parser\")\n",
        "\n",
        "title = soup1.find(id=\"productTitle\")\n",
        "\n",
        "price = soup1.find(id=\"priceblock_ourprice\")\n",
        "\n",
        "\n",
        "print(title.get_text())\n",
        "#print(price.get_text())\n"
      ],
      "metadata": {
        "id": "HYoCiqIYLuOK"
      },
      "execution_count": null,
      "outputs": []
    },
    {
      "cell_type": "code",
      "source": [
        "from bs4 import BeautifulSoup\n",
        "import requests\n",
        "import time\n",
        "import datetime\n",
        "import csv\n",
        "import pandas as pd\n",
        "import smtplib\n",
        "# Connect to Website and pull in data\n",
        "\n",
        "URL = 'https://www.amazon.com/Funny-Data-Systems-Business-Analyst/dp/B07FNW9FGJ/ref=sr_1_3?dchild=1&keywords=data%2Banalyst%2Btshirt&qid=1626655184&sr=8-3&customId=B0752XJYNL&th=1'\n",
        "\n",
        "headers = {\"User-Agent\": \"Mozilla/5.0 (Windows NT 10.0; Win64; x64) AppleWebKit/537.36 (KHTML, like Gecko) Chrome/78.0.3904.108 Safari/537.36\", \"Accept-Encoding\":\"gzip, deflate\", \"Accept\":\"text/html,application/xhtml+xml,application/xml;q=0.9,*/*;q=0.8\", \"DNT\":\"1\",\"Connection\":\"close\", \"Upgrade-Insecure-Requests\":\"1\"}\n",
        "\n",
        "page = requests.get(URL, headers=headers)\n",
        "\n",
        "soup1 = BeautifulSoup(page.content, \"html.parser\")\n",
        "\n",
        "soup2 = BeautifulSoup(soup1.prettify(), \"html.parser\")\n",
        "\n",
        "title = soup1.find(id=\"productTitle\")\n",
        "\n",
        "#price = soup1.find(id=\"priceblock_ourprice\")\n",
        "\n",
        "title=title.get_text()\n",
        "print(title)\n",
        "\n",
        "#print(price.get_text()) #not preset in website updated\n",
        "\n",
        "\n",
        "header=[\"title\",\"date\"]\n",
        "data=[title,datetime.date.today()]\n",
        "\n",
        "#with open('webscraperdataset.csv','w',newline='',encoding=\"UTF8\") as f:  #writing old data\n",
        "with open('webscraperdataset.csv','',newline='',encoding=\"UTF8\") as f: #appending new data\n",
        "\n",
        "    writer=csv.writer(f)\n",
        "\n",
        "    writer.writerow(data)\n",
        "\n",
        "\n",
        "\n",
        "df=pd.read_csv(r'webscraperdataset.csv')\n",
        "print(df)"
      ],
      "metadata": {
        "id": "O0ym9Me1ZBtd"
      },
      "execution_count": null,
      "outputs": []
    },
    {
      "cell_type": "markdown",
      "source": [
        "automatin the whole process for daily update"
      ],
      "metadata": {
        "id": "PthneR-ub3sK"
      }
    },
    {
      "cell_type": "code",
      "source": [
        "def check_price():  #appending new data\n",
        "    URL = 'https://www.amazon.com/Funny-Data-Systems-Business-Analyst/dp/B07FNW9FGJ/ref=sr_1_3?dchild=1&keywords=data%2Banalyst%2Btshirt&qid=1626655184&sr=8-3&customId=B0752XJYNL&th=1'\n",
        "\n",
        "    headers = {\"User-Agent\": \"Mozilla/5.0 (Windows NT 10.0; Win64; x64) AppleWebKit/537.36 (KHTML, like Gecko) Chrome/78.0.3904.108 Safari/537.36\", \"Accept-Encoding\":\"gzip, deflate\", \"Accept\":\"text/html,application/xhtml+xml,application/xml;q=0.9,*/*;q=0.8\", \"DNT\":\"1\",\"Connection\":\"close\", \"Upgrade-Insecure-Requests\":\"1\"}\n",
        "\n",
        "    page = requests.get(URL, headers=headers)\n",
        "\n",
        "    soup1 = BeautifulSoup(page.content, \"html.parser\")\n",
        "\n",
        "    soup2 = BeautifulSoup(soup1.prettify(), \"html.parser\")\n",
        "\n",
        "    title = soup1.find(id=\"productTitle\")\n",
        "\n",
        "#price = soup1.find(id=\"priceblock_ourprice\")\n",
        "\n",
        "    title=title.get_text()\n",
        "    print(title)\n",
        "\n",
        "#print(price.get_text()) #not preset in website updated\n",
        "\n",
        "\n",
        "    header=[\"title\",\"date\"]\n",
        "    data=[title,datetime.date.today()]\n",
        "\n",
        "    with open('webscraperdataset.csv','a+',newline='',encoding=\"UTF8\") as f: #appending new data\n",
        "\n",
        "        writer=csv.writer(f)\n",
        "\n",
        "        writer.writerow(data)\n",
        "\n",
        "\n",
        "\n",
        "df=pd.read_csv(r'webscraperdataset.csv')\n",
        "print(df)\n"
      ],
      "metadata": {
        "id": "fcF49tasb3N6"
      },
      "execution_count": null,
      "outputs": []
    },
    {
      "cell_type": "code",
      "source": [
        "while (True):\n",
        "    check_price()\n",
        "    time.sleep(86400) #runs the code after every 86400 second/one day and update"
      ],
      "metadata": {
        "id": "vXGGW7JmdH4C"
      },
      "execution_count": null,
      "outputs": []
    }
  ]
}