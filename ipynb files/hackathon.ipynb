{
  "nbformat": 4,
  "nbformat_minor": 0,
  "metadata": {
    "colab": {
      "provenance": [],
      "authorship_tag": "ABX9TyP3mYzgM/SBrfKsNxkpRtS+",
      "include_colab_link": true
    },
    "kernelspec": {
      "name": "python3",
      "display_name": "Python 3"
    },
    "language_info": {
      "name": "python"
    }
  },
  "cells": [
    {
      "cell_type": "markdown",
      "metadata": {
        "id": "view-in-github",
        "colab_type": "text"
      },
      "source": [
        "<a href=\"https://colab.research.google.com/github/heavidevi/experiment-with-python/blob/main/hackathon.ipynb\" target=\"_parent\"><img src=\"https://colab.research.google.com/assets/colab-badge.svg\" alt=\"Open In Colab\"/></a>"
      ]
    },
    {
      "cell_type": "code",
      "execution_count": null,
      "metadata": {
        "id": "Z-xQ47UuOjzE"
      },
      "outputs": [],
      "source": [
        "#problem 3\n",
        "\n",
        "string = str(input(\"enter string\"))\n",
        "half = int(len(string) / 2)\n",
        "\n",
        "if len(string) % 2 == 0:\n",
        "    first_str = string[:half]\n",
        "    second_str = string[half:]\n",
        "else:\n",
        "    first_str = string[:half]\n",
        "    second_str = string[half+1:]\n",
        "\n",
        "\n",
        "if first_str == second_str:\n",
        "    print(string, 'string is symmertical')\n",
        "else:\n",
        "    print(string, 'string is not symmertical')\n",
        "\n",
        "\n",
        "if first_str == second_str[::-1]:\n",
        "    print(string, 'string is palindrome')\n",
        "else:\n",
        "    print(string, 'string is not palindrome')\n",
        "\n",
        "string.split(' ')\n",
        "print([char for char in string])\n",
        "\n",
        "\n",
        "string =  str(string)\n",
        "n=len(string)\n",
        "j=1\n",
        "i=str(0)\n",
        "for i in range (0, n):\n",
        "\n",
        "        print(string[i]*j)\n",
        "        i=i+1\n",
        "        j=j+1"
      ]
    },
    {
      "cell_type": "code",
      "source": [
        "#problem 2\n",
        "a = 0\n",
        "b = 1\n",
        "series=list()\n",
        "series.append(a)\n",
        "series.append(b)\n",
        "\n",
        "n= int(input('enter fibonacci series(should not greater than 10)'))\n",
        "\n",
        "while n < 10 :\n",
        "        n=input(\"please enter number greater than 10\")\n",
        "\n",
        "for i in range(1, n):\n",
        "    c = a + b\n",
        "    a = b\n",
        "    b = c\n",
        "\n",
        "    series.append(c)\n",
        "print (series, \" : this is the fibbonacci series\")\n",
        "total= 0\n",
        "for i in range(0,10) :\n",
        "    total=total + series[i]\n",
        "\n",
        "print(total, \" : this is thee total\")"
      ],
      "metadata": {
        "id": "BBkaP9VbvUm-"
      },
      "execution_count": null,
      "outputs": []
    },
    {
      "cell_type": "code",
      "source": [
        "#problem 1\n",
        "n=int(input(\"enter a number :\"))\n",
        "c=n-1\n",
        "i=n\n",
        "j=n*c\n",
        "for n in range (1,i-1):\n",
        "\n",
        "    j=j*n\n",
        "    n=c-1\n",
        "\n",
        "print(j, \"this is the factorial\")\n"
      ],
      "metadata": {
        "id": "2e73TTPevVIQ"
      },
      "execution_count": null,
      "outputs": []
    }
  ]
}