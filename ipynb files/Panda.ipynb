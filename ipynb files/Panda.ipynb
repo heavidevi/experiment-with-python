{
  "nbformat": 4,
  "nbformat_minor": 0,
  "metadata": {
    "colab": {
      "private_outputs": true,
      "provenance": [],
      "authorship_tag": "ABX9TyNgF8QWpT5HyA9rGQws93Ro",
      "include_colab_link": true
    },
    "kernelspec": {
      "name": "python3",
      "display_name": "Python 3"
    },
    "language_info": {
      "name": "python"
    }
  },
  "cells": [
    {
      "cell_type": "markdown",
      "metadata": {
        "id": "view-in-github",
        "colab_type": "text"
      },
      "source": [
        "<a href=\"https://colab.research.google.com/github/heavidevi/experiment-with-python/blob/main/ipynb%20files/Panda.ipynb\" target=\"_parent\"><img src=\"https://colab.research.google.com/assets/colab-badge.svg\" alt=\"Open In Colab\"/></a>"
      ]
    },
    {
      "cell_type": "markdown",
      "source": [
        "reading a file"
      ],
      "metadata": {
        "id": "J9D43GCMG_La"
      }
    },
    {
      "cell_type": "code",
      "execution_count": null,
      "metadata": {
        "id": "Ct5TA8EwG649"
      },
      "outputs": [],
      "source": [
        "import pandas as pd\n",
        "df1 = pd.read_table(r'countries of the world.txt')\n",
        "#pd.set_option(\"display.max.rows\",100)\n",
        "#pd.set_option(\"display.max.column\",2)\n",
        "#df.shape\n",
        "\n",
        "details=df1.loc[df1['Country']=='Afghanistan']\n",
        "print(details)"
      ]
    },
    {
      "cell_type": "markdown",
      "source": [
        "filtering and ordering\n"
      ],
      "metadata": {
        "id": "v833zGlENsGU"
      }
    },
    {
      "cell_type": "code",
      "source": [
        "import pandas as pd\n",
        "df2=pd.read_csv(r\"world_population.csv\")\n",
        "df2[df2['Rank']<=10].sort_values(by=['Rank'])\n"
      ],
      "metadata": {
        "id": "KLrhDcWuNwq_"
      },
      "execution_count": null,
      "outputs": []
    },
    {
      "cell_type": "code",
      "source": [
        "specific_coutries=[\"Bangladesh\",\"Brazil\"]\n",
        "df2[df2['Country'].isin(specific_coutries)]"
      ],
      "metadata": {
        "id": "rjhYwxCjc3il"
      },
      "execution_count": null,
      "outputs": []
    },
    {
      "cell_type": "code",
      "source": [
        "df2[df2['Country'].str.contains('United')] #to find similiar data\n",
        "df2[df2['Country'].isin(['India'])] #to find exact data\n"
      ],
      "metadata": {
        "id": "YTyXq7TAdcho"
      },
      "execution_count": null,
      "outputs": []
    },
    {
      "cell_type": "code",
      "source": [
        "df2.filter(items=['India'], axis=1)\n",
        "#will oy out this thing not like isin function"
      ],
      "metadata": {
        "id": "zq3Pkiu5hz-_"
      },
      "execution_count": null,
      "outputs": []
    },
    {
      "cell_type": "code",
      "source": [
        "df2=df.set_index('Country')\n",
        "df2.reset_index(inplace=True)#to have new index"
      ],
      "metadata": {
        "id": "P_5NTGoffFWd"
      },
      "execution_count": null,
      "outputs": []
    },
    {
      "cell_type": "code",
      "source": [
        "df2.loc['India']"
      ],
      "metadata": {
        "id": "QYl1QMoapZ1l"
      },
      "execution_count": null,
      "outputs": []
    },
    {
      "cell_type": "code",
      "source": [
        "df2.sort_values(by=['Continent','Country'],ascending=[False,True]) #will make respective order coliniear to continent and country"
      ],
      "metadata": {
        "id": "lRYH9SkcpwBc"
      },
      "execution_count": null,
      "outputs": []
    },
    {
      "cell_type": "markdown",
      "source": [
        "indexing\n"
      ],
      "metadata": {
        "id": "GNWIryqyDIXN"
      }
    },
    {
      "cell_type": "code",
      "source": [
        "df2.set_index('Country',inplace=True) #to set country as index\n",
        "df2.reset_index(inplace=True) #to avea separate index\n",
        "df2.set_index([\"country\",\"continent\"], inplace=True)# to have 2 index\n"
      ],
      "metadata": {
        "id": "Odu6000PDOG-"
      },
      "execution_count": null,
      "outputs": []
    },
    {
      "cell_type": "markdown",
      "source": [
        "Group by and aggregating"
      ],
      "metadata": {
        "id": "Ypeq7h336iuy"
      }
    },
    {
      "cell_type": "code",
      "source": [
        "import pandas as pd\n",
        "dataframe=pd.read_csv(r\"flavors.csv\")\n",
        "#gtoup by is sed to make groups of duplicate values.\n"
      ],
      "metadata": {
        "id": "aULmDimF7q4V"
      },
      "execution_count": null,
      "outputs": []
    },
    {
      "cell_type": "code",
      "source": [
        "group_by_frame=dataframe.groupby('Base Flavor') #it ccreates na object of group of this data frame by group by\n",
        "print(group_by_frame.mean())\n",
        "#select only columns which has numerical values. it cannot consider it.\n",
        "group_by_frame.sum()\n",
        "group_by_frame.max()\n",
        "group_by_frame.count()\n",
        "group_by_frame.min()\n"
      ],
      "metadata": {
        "id": "KH8oq-NC-WUw"
      },
      "execution_count": null,
      "outputs": []
    },
    {
      "cell_type": "code",
      "source": [
        "dataframe.agg({'Flavor Rating':['mean','max','min'],'Texture Rating':['mean','max','min']})\n",
        "#aggregate makes an can use any heading and combine it have communative results"
      ],
      "metadata": {
        "id": "0wCvCzfLBVCW"
      },
      "execution_count": null,
      "outputs": []
    },
    {
      "cell_type": "code",
      "source": [
        "dataframe.groupby(['Base Flavor','Liked']).describe()"
      ],
      "metadata": {
        "id": "sEQkPdVECxSZ"
      },
      "execution_count": null,
      "outputs": []
    },
    {
      "cell_type": "code",
      "source": [
        "dataframe.groupby(['Base Flavor','Liked']).mean()"
      ],
      "metadata": {
        "id": "xYbdC_z8EKo-"
      },
      "execution_count": null,
      "outputs": []
    },
    {
      "cell_type": "markdown",
      "source": [
        "Merge,join and concaternating"
      ],
      "metadata": {
        "id": "-p7tw6T3D-tA"
      }
    },
    {
      "cell_type": "code",
      "source": [
        "import pandas as pd\n",
        "dataframe1=pd.read_csv(r\"LOTR.csv\")\n",
        "dataframe2=pd.read_csv(r\"LOTR 2.csv\")\n",
        "#MERGE JOIN AND CONCAT IS SIIMILIAR TO SQL INNER,OUTER, LEFT AND RIGHT JOIN\n",
        "#merge joins only common area"
      ],
      "metadata": {
        "id": "-YSnyyhUGR4B"
      },
      "execution_count": null,
      "outputs": []
    },
    {
      "cell_type": "code",
      "source": [
        "dataframe1.merge(dataframe2)#merges only common grounds"
      ],
      "metadata": {
        "id": "F3s4dpkD9uEC"
      },
      "execution_count": null,
      "outputs": []
    },
    {
      "cell_type": "code",
      "source": [
        "dataframe1.merge(dataframe2,how='inner',on='FellowshipID')\n",
        "dataframe1.merge(dataframe2,how='inner',on=['FellowshipID','FirstName'])#automatically pulls according to both data"
      ],
      "metadata": {
        "id": "z36oiFfv99wV"
      },
      "execution_count": null,
      "outputs": []
    },
    {
      "cell_type": "code",
      "source": [
        "dataframe1.merge(dataframe2,how='outer')#outer join"
      ],
      "metadata": {
        "id": "UDRssZSu-II4"
      },
      "execution_count": null,
      "outputs": []
    },
    {
      "cell_type": "code",
      "source": [
        "dataframe1.merge(dataframe2,how='left')#left join. considers common from both table and un common value from datframe2"
      ],
      "metadata": {
        "id": "iGI3Rjfo_gy6"
      },
      "execution_count": null,
      "outputs": []
    },
    {
      "cell_type": "code",
      "source": [
        "dataframe1.merge(dataframe2,how='right')#does the exact opposite of left."
      ],
      "metadata": {
        "id": "c2JW43rV_okv"
      },
      "execution_count": null,
      "outputs": []
    },
    {
      "cell_type": "code",
      "source": [
        "dataframe1.merge(dataframe2,how='cross')#cross join\n",
        "#basically matches each uncommon thing with resepective values from df1"
      ],
      "metadata": {
        "id": "Uza8WNop_4QS"
      },
      "execution_count": null,
      "outputs": []
    },
    {
      "cell_type": "code",
      "source": [
        "dataframe1.join(dataframe2,on='FellowshipID',how='outer',lsuffix='_left',rsuffix='_right')\n",
        "#when joining dataframe we need have an base id and specify about which column depends to which dataframe"
      ],
      "metadata": {
        "id": "TnLje4MDZV86"
      },
      "execution_count": null,
      "outputs": []
    },
    {
      "cell_type": "code",
      "source": [
        "dataframe3=dataframe1.set_index('FellowshipID').join(dataframe2.set_index('FellowshipID'),lsuffix='_left',rsuffix='_right',how='outer')\n",
        "#making a new dataframe which has old dataframes togeether inside. plus highlighted how should columns to be labelled."
      ],
      "metadata": {
        "id": "xZP50MlIc4ah"
      },
      "execution_count": null,
      "outputs": []
    },
    {
      "cell_type": "code",
      "source": [
        "#concatinate. Adding dataframe another dataframe below this dataframe. similiar to append\n",
        "pd.concat([dataframe1,dataframe2],ignore_index=True)"
      ],
      "metadata": {
        "id": "wDie9dANdILq"
      },
      "execution_count": null,
      "outputs": []
    },
    {
      "cell_type": "code",
      "source": [
        "pd.concat([dataframe1,dataframe2],join='inner')"
      ],
      "metadata": {
        "id": "T0E--wd5d6qA"
      },
      "execution_count": null,
      "outputs": []
    },
    {
      "cell_type": "code",
      "source": [
        "dataframe1.append(dataframe2)\n",
        "#similiar to concat . doesnt work all the time"
      ],
      "metadata": {
        "id": "l5yl1ZrXeJSv"
      },
      "execution_count": null,
      "outputs": []
    },
    {
      "cell_type": "markdown",
      "source": [
        "data visualization in pandas"
      ],
      "metadata": {
        "id": "1KN9N0rGeamp"
      }
    },
    {
      "cell_type": "code",
      "source": [
        "import numpy as np\n",
        "\n",
        "import matplotlib.pyplot as plt\n"
      ],
      "metadata": {
        "id": "SjM7NwlEeeQQ"
      },
      "execution_count": null,
      "outputs": []
    },
    {
      "cell_type": "code",
      "source": [
        "data=pd.read_csv(r\"Ice Cream Ratings.csv\")\n",
        "data=data.set_index('Date')\n",
        "data"
      ],
      "metadata": {
        "id": "kSHCeQDzjZaq"
      },
      "execution_count": null,
      "outputs": []
    },
    {
      "cell_type": "code",
      "source": [
        "data.plot(kind=\"line\",title=\"Ice cream ratings\",xlabel=\"daily rating\",ylabel=\"rating\")"
      ],
      "metadata": {
        "id": "jq8RFIdWj40B"
      },
      "execution_count": null,
      "outputs": []
    },
    {
      "cell_type": "code",
      "source": [
        "data['Flavor Rating'].plot(kind=\"bar\",title=\"Ice cream ratings\",xlabel=\"daily rating\",ylabel=\"rating\")\n",
        "#it only plot for the specified data written"
      ],
      "metadata": {
        "id": "0vmREJbulcGO"
      },
      "execution_count": null,
      "outputs": []
    },
    {
      "cell_type": "code",
      "source": [
        "data.plot.barh(stacked=True)\n",
        "#barh is horizontal bar"
      ],
      "metadata": {
        "id": "fIMY7A8BmEIV"
      },
      "execution_count": null,
      "outputs": []
    },
    {
      "cell_type": "code",
      "source": [
        "data.plot.scatter(x='Texture Rating',y='Overall Rating',s=100,c=\"Yellow\") #colour of scatter\n",
        "#its important to mention x,y in scatter plot"
      ],
      "metadata": {
        "id": "t8ciQ0chpBiD"
      },
      "execution_count": null,
      "outputs": []
    },
    {
      "cell_type": "code",
      "source": [
        "data.plot.hist(y='Overall Rating',bins=20)\n",
        "#bins are basically lines in the graph"
      ],
      "metadata": {
        "id": "oghlkgUexTnH"
      },
      "execution_count": null,
      "outputs": []
    },
    {
      "cell_type": "code",
      "source": [
        "data.boxplot()"
      ],
      "metadata": {
        "id": "AmGHohUaxm0M"
      },
      "execution_count": null,
      "outputs": []
    },
    {
      "cell_type": "code",
      "source": [
        "data.plot.area(figsize=(10,5))\n",
        "#figsize is size of the plot"
      ],
      "metadata": {
        "id": "3YsTa5wIxw8l"
      },
      "execution_count": null,
      "outputs": []
    },
    {
      "cell_type": "code",
      "source": [
        "data.plot.pie(y='Overall Rating',figsize=(5,5))\n",
        "#specification of column needed"
      ],
      "metadata": {
        "id": "QPX-a-FyyCe5"
      },
      "execution_count": null,
      "outputs": []
    },
    {
      "cell_type": "code",
      "source": [
        "print(plt.style.available)\n",
        "plt.style.use('use any style u like')"
      ],
      "metadata": {
        "id": "1jG9r_1Y1ZDy"
      },
      "execution_count": null,
      "outputs": []
    },
    {
      "cell_type": "markdown",
      "source": [
        "data cleaning in pandas"
      ],
      "metadata": {
        "id": "E-QcKiZz2DIm"
      }
    },
    {
      "cell_type": "code",
      "source": [
        "import pandas as pd\n",
        "dataframe3=pd.read_excel(r\"Customer Call List.xlsx\")\n",
        "dataframe3"
      ],
      "metadata": {
        "id": "4J0dqdVJ2Fhy"
      },
      "execution_count": null,
      "outputs": []
    },
    {
      "cell_type": "code",
      "source": [
        "dataframe3=dataframe3.drop_duplicates()\n",
        "#to remove uneccssary duplicates"
      ],
      "metadata": {
        "id": "aC2mGF-_9Uif"
      },
      "execution_count": null,
      "outputs": []
    },
    {
      "cell_type": "code",
      "source": [
        "dataframe3.drop(columns=\"Not_Useful_Column\")\n",
        "#to delete a column"
      ],
      "metadata": {
        "id": "vsOut8UjElXP"
      },
      "execution_count": null,
      "outputs": []
    },
    {
      "cell_type": "code",
      "source": [
        "dataframe3['Last_Name'].str.strip()\n",
        "#we basically replace the not available value. removes empty space"
      ],
      "metadata": {
        "id": "2j3p5lRbE57K"
      },
      "execution_count": null,
      "outputs": []
    },
    {
      "cell_type": "code",
      "source": [
        "dataframe3['Last_Name']=dataframe3['Last_Name'].str.lstrip(\"...\")\n",
        "#lstrip=left strip remove from left. can only be used one by one"
      ],
      "metadata": {
        "id": "Wq8NfQZmGA8S"
      },
      "execution_count": null,
      "outputs": []
    },
    {
      "cell_type": "code",
      "source": [
        "dataframe3['Last_Name']=dataframe3['Last_Name'].str.strip(\"123._/\")\n",
        "#removing data all unneccessary data at once"
      ],
      "metadata": {
        "id": "1G4NCew-G1ew"
      },
      "execution_count": null,
      "outputs": []
    },
    {
      "cell_type": "code",
      "source": [
        "dataframe3['Phone_Number']=dataframe3['Phone_Number'].str.replace('[^a-zA-Z0-9]','')\n",
        "dataframe3['Phone_Number']\n",
        "#only accepts this and removeeverything else in replade"
      ],
      "metadata": {
        "id": "Ube_o11fJAbI"
      },
      "execution_count": null,
      "outputs": []
    },
    {
      "cell_type": "code",
      "source": [
        "dataframe3[\"Phone_Number\"]=dataframe3[\"Phone_Number\"].apply(lambda x: str(x))\n",
        "#changes all phone numebr to string\n",
        "dataframe3[\"Phone_Number\"]=dataframe3[\"Phone_Number\"].apply(lambda x: x[0:3] + '-' + x[3:6] + '-' + x[6:10])\n",
        "dataframe3[\"Phone_Number\"]\n",
        "#manipulated data to accordint o out needs"
      ],
      "metadata": {
        "id": "-TCzr7-TKdzO"
      },
      "execution_count": null,
      "outputs": []
    },
    {
      "cell_type": "code",
      "source": [
        "dataframe3[[\"streetaddres\",\"state\",\"zipcodes\"]]=dataframe3['Address'].str.split(',',expand=True)\n",
        "#sepaaratign column into 3 different column"
      ],
      "metadata": {
        "id": "i9GQkaqvMvx3"
      },
      "execution_count": null,
      "outputs": []
    },
    {
      "cell_type": "code",
      "source": [
        "dataframe3['Paying Customer']=dataframe3['Paying Customer'].str.replace('Yes','Y')\n",
        "dataframe3['Paying Customer']=dataframe3['Paying Customer'].str.replace('No','N')\n",
        "\n",
        "dataframe3['Do_Not_Contact']=dataframe3['Do_Not_Contact'].str.replace('Yes','Y')"
      ],
      "metadata": {
        "id": "zJWukZqDNfB4"
      },
      "execution_count": null,
      "outputs": []
    },
    {
      "cell_type": "code",
      "source": [
        "dataframe3=dataframe3.replace('N/a','')\n",
        "dataframe3=dataframe3.fillna('') #filling all blank values with empty"
      ],
      "metadata": {
        "id": "OxRHQAJ6N8Iv"
      },
      "execution_count": null,
      "outputs": []
    },
    {
      "cell_type": "code",
      "source": [
        "#removing all people who have labelled do not contact as yes\n",
        "for x in dataframe3.index:\n",
        "    if dataframe3.loc[x,'Do_Not_Contact']=='Y':\n",
        "        dataframe3.drop(x,inplace=True)\n",
        "dataframe3"
      ],
      "metadata": {
        "id": "j8woLTIvOhL9"
      },
      "execution_count": null,
      "outputs": []
    },
    {
      "cell_type": "code",
      "source": [
        "#removing people with empty phone number\n",
        "for x in dataframe3.index:\n",
        "    if dataframe3.loc[x,'Phone_Number']=='':\n",
        "        dataframe3.drop(x,inplace=True)\n",
        "dataframe3\n"
      ],
      "metadata": {
        "id": "XHNSL87MQf0L"
      },
      "execution_count": null,
      "outputs": []
    },
    {
      "cell_type": "code",
      "source": [
        "dataframe3=dataframe3.reset_index(drop=True)\n",
        "#reeseting index for the newer data"
      ],
      "metadata": {
        "id": "coV-fO2uQ3ib"
      },
      "execution_count": null,
      "outputs": []
    },
    {
      "cell_type": "markdown",
      "source": [
        "exploratory data analysis(eda) in panda"
      ],
      "metadata": {
        "id": "g2Dnf8H-RbN3"
      }
    },
    {
      "cell_type": "code",
      "source": [
        "import pandas as pd\n",
        "import matplotlib.pyplot as plt\n",
        "import seaborn as sns"
      ],
      "metadata": {
        "id": "k0L6oD9DRjb-"
      },
      "execution_count": null,
      "outputs": []
    },
    {
      "cell_type": "code",
      "source": [
        "df3=pd.read_csv(r\"world_population.csv\")\n",
        "df3"
      ],
      "metadata": {
        "id": "_ZhNABJCFi5Y"
      },
      "execution_count": null,
      "outputs": []
    },
    {
      "cell_type": "code",
      "source": [
        "pd.set_option(\"display.float_format\", lambda x:'%.2f' %x)\n",
        "#changes all float numbers to 2s.f\n",
        "df3"
      ],
      "metadata": {
        "id": "m8JDR-0oJc4U"
      },
      "execution_count": null,
      "outputs": []
    },
    {
      "cell_type": "code",
      "source": [
        "df3.info()\n",
        "#prvides info of dataframe"
      ],
      "metadata": {
        "id": "DOYWRf2VLCWQ"
      },
      "execution_count": null,
      "outputs": []
    },
    {
      "cell_type": "code",
      "source": [
        "df3.isnull().sum()\n",
        "#provdes sum of null values in te dataframe"
      ],
      "metadata": {
        "id": "um83qnLHLHwp"
      },
      "execution_count": null,
      "outputs": []
    },
    {
      "cell_type": "code",
      "source": [
        "df3.nunique()\n",
        "#tells about unique values in each column"
      ],
      "metadata": {
        "id": "vLkCvJrtPZWj"
      },
      "execution_count": null,
      "outputs": []
    },
    {
      "cell_type": "code",
      "source": [
        "df3.sort_values(by=\"2022 Population\",ascending=False).head(10)"
      ],
      "metadata": {
        "id": "YWJMS6PwQ28y"
      },
      "execution_count": null,
      "outputs": []
    },
    {
      "cell_type": "code",
      "source": [
        "\n",
        "#having corelation within each column\n",
        "df3.corr(numeric_only=True)\n",
        "#only works for numeric values\n",
        "#1 mean having 1:1 realtion\n",
        "#other relation means related inverse"
      ],
      "metadata": {
        "id": "gu6nTay7RoIY"
      },
      "execution_count": null,
      "outputs": []
    },
    {
      "cell_type": "code",
      "source": [
        "sns.heatmap(df3.corr(numeric_only=True),annot=True)\n",
        "#making the map of how corelation\n",
        "plt.figure(figsize=(10,10))#increasing figure size\n",
        "plt.show()"
      ],
      "metadata": {
        "id": "S52r7GlnSjjX"
      },
      "execution_count": null,
      "outputs": []
    },
    {
      "cell_type": "code",
      "source": [
        "df3=df3.groupby('Continent')[df3.columns[5:13]].mean(numeric_only=True)\n",
        "#only works for numerical values"
      ],
      "metadata": {
        "id": "C2n0QLi8TRB_"
      },
      "execution_count": null,
      "outputs": []
    },
    {
      "cell_type": "code",
      "source": [
        "df3[df3[\"Continent\"].str.contains(\"Oceania\")]"
      ],
      "metadata": {
        "id": "pH_pXX_JTutH"
      },
      "execution_count": null,
      "outputs": []
    },
    {
      "cell_type": "code",
      "source": [
        "df3.plot()"
      ],
      "metadata": {
        "id": "4AxQuF3aUqx3"
      },
      "execution_count": null,
      "outputs": []
    },
    {
      "cell_type": "code",
      "source": [
        "df3=df3.transpose()\n",
        "df3.plot(figsize=(10,10))\n",
        "#it reverse the axis"
      ],
      "metadata": {
        "id": "IKtdHN3JVaEs"
      },
      "execution_count": null,
      "outputs": []
    },
    {
      "cell_type": "code",
      "source": [
        "df3.select_dtypes(include='number')\n",
        "#calls all kind of number into it"
      ],
      "metadata": {
        "id": "1hTiut9QY44y"
      },
      "execution_count": null,
      "outputs": []
    }
  ]
}