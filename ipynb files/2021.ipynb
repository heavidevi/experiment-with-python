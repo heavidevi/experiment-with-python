{
  "nbformat": 4,
  "nbformat_minor": 0,
  "metadata": {
    "colab": {
      "provenance": [],
      "authorship_tag": "ABX9TyOzp3zkCpqvBaFjq1VX+wUL",
      "include_colab_link": true
    },
    "kernelspec": {
      "name": "python3",
      "display_name": "Python 3"
    },
    "language_info": {
      "name": "python"
    }
  },
  "cells": [
    {
      "cell_type": "markdown",
      "metadata": {
        "id": "view-in-github",
        "colab_type": "text"
      },
      "source": [
        "<a href=\"https://colab.research.google.com/github/heavidevi/experiment-with-python/blob/main/2021.ipynb\" target=\"_parent\"><img src=\"https://colab.research.google.com/assets/colab-badge.svg\" alt=\"Open In Colab\"/></a>"
      ]
    },
    {
      "cell_type": "markdown",
      "source": [
        "### _*2021 43-41-42 mj*_"
      ],
      "metadata": {
        "id": "AyIbc96ZyoOE"
      }
    },
    {
      "source": [
        "#2021 43 p5 q1\n",
        "class node:\n",
        "    def __init__(self,data,next):\n",
        "        self.data=data\n",
        "        self.next=next\n",
        "    def __repr__(self):\n",
        "        return f\"{self.data}\"\n",
        "\n",
        "def outputnode(link,start):\n",
        "\n",
        "    current=start\n",
        "    while link[current].next != -1:\n",
        "        value=link[current]\n",
        "        print(value)\n",
        "        current=link[current].next\n",
        "    print(link[current])#for last value\n",
        "\n",
        "def addnode(value):\n",
        "    global emptylist,linkedlist,start\n",
        "\n",
        "\n",
        "    current=empty\n",
        "\n",
        "    index=0\n",
        "\n",
        "    while linkedlist[start].data != 0:\n",
        "\n",
        "        previous=start\n",
        "        start=link[start].next\n",
        "        if index!=9:\n",
        "            index +=1\n",
        "        else:\n",
        "            return(\"list is empty\")\n",
        "\n",
        "    linkedlist[emptylist].data=newdata\n",
        "    linkedlist[previous].next=index\n",
        "    emptylist=index\n",
        "\n",
        "\n",
        "\n",
        "\n",
        "def main():\n",
        "    global startpointer,emptylist,linkedlist\n",
        "    startpointer=0\n",
        "    emptylist=5\n",
        "    linkedlist=[node(1,1),node(5,4),node(6,7),node(7,-1),node(2,2),node(0,6),node(0,8),node(56,3),node(0,9),node(0,-1)]\n",
        "    outputnode(linkedlist,startpointer)\n",
        "\n",
        "\n"
      ],
      "cell_type": "code",
      "metadata": {
        "colab": {
          "base_uri": "https://localhost:8080/"
        },
        "id": "LQw-A6y3mFh5",
        "outputId": "d2a66574-5703-49f0-c9de-77ba24a296bd"
      },
      "execution_count": null,
      "outputs": [
        {
          "output_type": "stream",
          "name": "stdout",
          "text": [
            "1\n",
            "5\n",
            "2\n",
            "6\n",
            "56\n",
            "7\n",
            "enter value to be added777\n",
            "0 1\n",
            "1 4\n",
            "4 2\n",
            "2 7\n",
            "7 3\n",
            "3 -1\n"
          ]
        },
        {
          "output_type": "execute_result",
          "data": {
            "text/plain": [
              "([1, 5, 6, 7, 2, 777, 0, 56, 0, 0], 6)"
            ]
          },
          "metadata": {},
          "execution_count": 50
        }
      ]
    },
    {
      "cell_type": "code",
      "source": [
        "#2021 43 p5 q2\n",
        "arraydata=[10,5,6,7,1,12,13,15,21,8]\n",
        "def linearsearch(value):\n",
        "    for index in range(0,10):\n",
        "        if arraydata[index]==value:\n",
        "            return True\n",
        "\n",
        "    return False\n",
        "\n",
        "def main():\n",
        "    x=int(input(\"enter a value\"))\n",
        "    if linearsearch(x)==True:\n",
        "        return(\"good boi\")\n",
        "    else:\n",
        "        return (\"bhai mila hi nhi \")\n",
        "\n",
        "def bubblesort():\n",
        "    global arraydata\n",
        "    count=0\n",
        "    maxindex=len(arraydata)-1\n",
        "    max=len(arraydata)\n",
        "    for x in range(0,9):\n",
        "\n",
        "        for y in range(0,9):\n",
        "            if arraydata[y]<arraydata[y+1]:\n",
        "                tamp=arraydata[y]\n",
        "                arraydata[y+1]=arraydata[y]\n",
        "                arraydata[y]=tamp\n",
        "                found=True\n",
        "            maxindex=maxindex-1\n",
        "            count +=1\n",
        "\n",
        "        max=max-1\n",
        "        count +=1\n",
        "\n",
        "\n",
        "\n",
        "    return count\n",
        "\n",
        "bubblesort()"
      ],
      "metadata": {
        "colab": {
          "base_uri": "https://localhost:8080/"
        },
        "id": "sR9_rtpcYYup",
        "outputId": "0d391049-c558-4847-d427-ef751a5fca43"
      },
      "execution_count": null,
      "outputs": [
        {
          "output_type": "execute_result",
          "data": {
            "text/plain": [
              "90"
            ]
          },
          "metadata": {},
          "execution_count": 63
        }
      ]
    },
    {
      "cell_type": "code",
      "source": [
        "#2021 43 p4 q3\n",
        "arrayteasure=[]\n",
        "class tresurechest:\n",
        "    def __init__(self,question,answer,points):\n",
        "        self.question=question\n",
        "        self.answer=answer\n",
        "        self.point=points\n",
        "\n",
        "    def __repr__(self):\n",
        "        return f\"{self.question},{self.answer},{self.point}\"\n",
        "    def getquestion(self):\n",
        "        return self.question\n",
        "    def getanswer(self,cans):\n",
        "        if self.answer==cans:\n",
        "            return True\n",
        "        else :\n",
        "            return False\n",
        "    def getpoint(self,attempts):\n",
        "        if attempts==1:\n",
        "            return self.point\n",
        "        elif attempts==2:\n",
        "            return (self.point//2)\n",
        "        elif attempts==3 or attempts ==4:\n",
        "            return (self.point//3)\n",
        "        else :\n",
        "            return 0\n",
        "\n",
        "\n",
        "def readdata():\n",
        "    global arrayteasure\n",
        "    file=open('TreasureChestData.txt',\"r\")\n",
        "    ques=file.readline().strip()\n",
        "    #TRY:\n",
        "    while ques != \"\":\n",
        "\n",
        "\n",
        "        ans=file.readline().strip()\n",
        "        point=file.readline().strip()\n",
        "        arrayteasure.append(tresurechest(ques,ans,point))\n",
        "        ques=file.readline().strip()\n",
        "    return True\n",
        "    #EXCEPT:\n",
        "        #raise IOERROR(\"file not found\")\n",
        "    file.close()\n",
        "\n",
        "\n",
        "def main():\n",
        "    readdata()\n",
        "    global arrayteasure\n",
        "    count=1\n",
        "\n",
        "    noques=int(input(\"enter question number\"))\n",
        "    while count<5:\n",
        "        ans=input(arrayteasure[noques].getquestion())\n",
        "        if arrayteasure[int(noques)].getanswer(ans)==True:\n",
        "            return arrayteasure[noques].getpoint(count)\n",
        "        else:\n",
        "            count +=1\n",
        "        print(\"try again\")\n",
        "main()"
      ],
      "metadata": {
        "colab": {
          "base_uri": "https://localhost:8080/",
          "height": 70
        },
        "id": "ROHBRlS3pZdS",
        "outputId": "880f4a5d-a150-4b5b-ec07-2bba6659f226"
      },
      "execution_count": null,
      "outputs": [
        {
          "name": "stdout",
          "output_type": "stream",
          "text": [
            "enter question number0\n",
            "2*24\n"
          ]
        },
        {
          "output_type": "execute_result",
          "data": {
            "text/plain": [
              "'10'"
            ],
            "application/vnd.google.colaboratory.intrinsic+json": {
              "type": "string"
            }
          },
          "metadata": {},
          "execution_count": 120
        }
      ]
    },
    {
      "cell_type": "markdown",
      "source": [
        "## _*oct nov 41 42 43*_"
      ],
      "metadata": {
        "id": "RRYipxkbzngV"
      }
    },
    {
      "cell_type": "code",
      "source": [
        "#q1\n",
        "\n",
        "def unknown(x,y):\n",
        "\n",
        "\n",
        "    if x<y:\n",
        "        print(x+y)\n",
        "        (unknown(x+1,y)*2)\n",
        "\n",
        "        return x\n",
        "    else:\n",
        "        if x==y:\n",
        "            return 1\n",
        "        else:\n",
        "            print(x+y)\n",
        "            return (unknown(x-1,y)//2)\n",
        "\n",
        "def iterativeunknown(x,y):\n",
        "    total=1\n",
        "    while x != y :\n",
        "        print(x+y)\n",
        "        if x<y:\n",
        "            x=x+1\n",
        "            total=total*2\n",
        "        elif x>y:\n",
        "            x=x-1\n",
        "            total=total//2\n",
        "\n",
        "\n",
        "iterativeunknown(10, 15)\n",
        "iterativeunknown(10, 10)\n",
        "iterativeunknown(15, 10)\n",
        "print(\"recursive function \")\n",
        "unknown(10, 15)\n",
        "unknown(10, 10)\n",
        "unknown(15, 10)"
      ],
      "metadata": {
        "id": "DIPs80qy7VZE"
      },
      "execution_count": null,
      "outputs": []
    },
    {
      "cell_type": "code",
      "source": [
        "from logging import raiseExceptions\n",
        "#q2\n",
        "class picture:\n",
        "    def __init__(self,description,width,height,colour):\n",
        "        self.description=str(description)\n",
        "        self.width=width\n",
        "        self.height=height\n",
        "        self.colour=str(colour)\n",
        "    def getdescription(self):\n",
        "        return self.description\n",
        "    def getwidth(self):\n",
        "        return self.width\n",
        "    def getheight(self):\n",
        "        return self.height\n",
        "    def getcolour(self):\n",
        "        return self.colour\n",
        "\n",
        "    def setdescription(self,description):\n",
        "        self.description=description\n",
        "\n",
        "\n",
        "    def __repr__(self):\n",
        "        return f\"{self.description},{self.width},{self.height},{self.colour}\"\n",
        "\n",
        "arraypicture=[]\n",
        "def readdata():\n",
        "    global arraypicture\n",
        "\n",
        "    file=open(\"Pictures.txt\",\"r\")\n",
        "    des=file.readline().strip()\n",
        "    x=0\n",
        "    for n in range (0,100):\n",
        "        arraypicture.append(picture(\"\",0,0,\"\"))\n",
        "    while des != \"\" and x<100: #dono kyunkey file khtm hoarahi before 100 element to aik bhi false to forun loop khtm honay chayie\n",
        "        wid=int(file.readline().strip())\n",
        "\n",
        "\n",
        "        hei=int(file.readline().strip())\n",
        "        col=file.readline().strip()\n",
        "        arraypicture[x]=picture(des,wid,hei,col.lower())\n",
        "        des=file.readline().strip()\n",
        "        x = x+1\n",
        "    file.close()\n",
        "\n",
        "\n",
        "def main():\n",
        "    readdata()\n",
        "    global arraypicture\n",
        "    col=input(\"enter colour\")\n",
        "    wid=int(input(\"enter width\"))\n",
        "    hei=int(input(\"enter height\"))\n",
        "    x=0\n",
        "\n",
        "    while arraypicture[x].getdescription != \" \" and x < 99:\n",
        "\n",
        "        if arraypicture[x].width <= wid:\n",
        "            if arraypicture[x].height <= hei:\n",
        "                if arraypicture[x].colour== col.lower():\n",
        "                    print(arraypicture[x])\n",
        "\n",
        "        x =x+1\n",
        "\n",
        "\n",
        "\n",
        "main()"
      ],
      "metadata": {
        "colab": {
          "base_uri": "https://localhost:8080/"
        },
        "id": "GiK8cA40ZNcl",
        "outputId": "0acab37a-02e9-4a43-b93b-06db99da2a2e"
      },
      "execution_count": null,
      "outputs": [
        {
          "output_type": "stream",
          "name": "stdout",
          "text": [
            "enter colourblack\n",
            "enter width100\n",
            "enter height100\n",
            "Flowers,45,50,black\n",
            "People,20,20,black\n",
            "Landscape,30,45,black\n",
            "Landscape,25,37,black\n",
            "People,50,40,black\n"
          ]
        }
      ]
    },
    {
      "cell_type": "code",
      "source": [
        "#q3\n",
        "arraynode=[]\n",
        "root=-1\n",
        "free=0\n",
        "for f in range(0,20):\n",
        "    arraynode.append([-1,-1,-1])\n",
        "\n",
        "def addnode(array,rootpointer,freepointer):\n",
        "    global arraynode,root,free #agar function baan ker return krdo toh ye global masla nhi ata direct argument se hi value use kertay.\n",
        "    #index and free aik cheez hai uske ander jaker humay milta\n",
        "    #\n",
        "    if free <= 19:\n",
        "        node=int(input(\"enter node\"))\n",
        "        arraynode[free][1]=node\n",
        "        arraynode[free][0]=-1\n",
        "        arraynode[free][2]=-1\n",
        "\n",
        "        if root==-1:\n",
        "            root=0\n",
        "        else:\n",
        "            placed=False\n",
        "            current=root\n",
        "            while placed== False :\n",
        "                if node<arraynode[current][1]:\n",
        "                    if arraynode[current][0] == -1:\n",
        "                        arraynode[current][0]=free #free hai jo naye value per point keray ga\n",
        "                        placed=True\n",
        "                    else:\n",
        "                        current=arraynode[current][0]\n",
        "                else:\n",
        "                    if arraynode[current][2]==-1 :\n",
        "                        arraynode[current][2]=free\n",
        "                        placed=True\n",
        "                    else:\n",
        "                        current=arraynode[current][2]\n",
        "        free=free+1\n",
        "    else:\n",
        "        print(\"list full\")\n",
        "\n",
        "\n",
        "def printall():\n",
        "    global arraynode,root,free\n",
        "    print(\"index\",\"left\",\"data\",\"array\")\n",
        "    index=0\n",
        "    for x in arraynode:\n",
        "\n",
        "        if x[1]!=-1:\n",
        "            print(index,x[0],x[1],x[2])\n",
        "        index=index+1\n",
        "    print(\"root=\",root,\"free=\",free)\n",
        "\n",
        "\n",
        "def main():\n",
        "    global arraynode,root,free\n",
        "    addnode(arraynode,root,free)\n",
        "\n",
        "\n",
        "\n",
        "#10\n",
        " #5\n",
        " #15\n",
        " #8\n",
        " #12\n",
        " #6\n",
        "# 205\n",
        "\n",
        "# 11\n",
        " #9\n",
        " #4\n",
        "for x in range(0,5):\n",
        "    main()\n",
        "    if x == 4:\n",
        "\n",
        "        printall()\n",
        "\n",
        "\n",
        "def inorder(array,rootnode):\n",
        "    current=rootnode\n",
        "    if array[current][0] != -1: #accessing left pointer\n",
        "        inorder(array,array[current][0])\n",
        "    print(str(array[current][1]))#accesed root pointer\n",
        "    if array[current][2]!=-1:\n",
        "        inorder(array,array[current][2]) #accesing right pointer"
      ],
      "metadata": {
        "colab": {
          "base_uri": "https://localhost:8080/"
        },
        "id": "bNrx_M_H2Tlx",
        "outputId": "5fb06fc8-02a2-4043-873a-cafbe9c0494e"
      },
      "execution_count": null,
      "outputs": [
        {
          "output_type": "stream",
          "name": "stdout",
          "text": [
            "enter node10\n",
            "enter node5\n",
            "enter node15\n",
            "enter node8\n",
            "enter node12\n",
            "index left data array\n",
            "0 1 10 2\n",
            "1 -1 5 3\n",
            "2 4 15 -1\n",
            "3 -1 8 -1\n",
            "4 -1 12 -1\n",
            "root= 0 free= 5\n"
          ]
        }
      ]
    }
  ]
}
