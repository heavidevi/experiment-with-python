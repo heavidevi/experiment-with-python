{
  "nbformat": 4,
  "nbformat_minor": 0,
  "metadata": {
    "colab": {
      "provenance": [],
      "authorship_tag": "ABX9TyOgS8bK1ym73dFriDk9wXAe",
      "include_colab_link": true
    },
    "kernelspec": {
      "name": "python3",
      "display_name": "Python 3"
    },
    "language_info": {
      "name": "python"
    }
  },
  "cells": [
    {
      "cell_type": "markdown",
      "metadata": {
        "id": "view-in-github",
        "colab_type": "text"
      },
      "source": [
        "<a href=\"https://colab.research.google.com/github/heavidevi/experiment-with-python/blob/small-experiment/problem_1.ipynb\" target=\"_parent\"><img src=\"https://colab.research.google.com/assets/colab-badge.svg\" alt=\"Open In Colab\"/></a>"
      ]
    },
    {
      "cell_type": "code",
      "execution_count": null,
      "metadata": {
        "id": "e567mXPYoPQW",
        "colab": {
          "base_uri": "https://localhost:8080/"
        },
        "outputId": "e788b2fc-3fd6-4ff6-bc8d-eaad761b3dfa"
      },
      "outputs": [
        {
          "output_type": "stream",
          "name": "stdout",
          "text": [
            "input number3\n",
            "2 factoraial   :\n"
          ]
        }
      ],
      "source": [
        "n=int(input(\"input number\"))\n",
        "\n",
        "for n in range (n):\n",
        "  c=n-1\n",
        "  j=n*c\n",
        "  n=c\n",
        "  j=j*n\n",
        "\n",
        "print(j,\"factoraial   :\")\n",
        "  "
      ]
    },
    {
      "cell_type": "code",
      "source": [],
      "metadata": {
        "id": "ZYE26Mt3rDKQ"
      },
      "execution_count": null,
      "outputs": []
    }
  ]
}