{
  "nbformat": 4,
  "nbformat_minor": 0,
  "metadata": {
    "colab": {
      "provenance": [],
      "authorship_tag": "ABX9TyOgS8bK1ym73dFriDk9wXAe"
    },
    "kernelspec": {
      "name": "python3",
      "display_name": "Python 3"
    },
    "language_info": {
      "name": "python"
    }
  },
  "cells": [
    {
      "cell_type": "code",
      "execution_count": 1,
      "metadata": {
        "id": "e567mXPYoPQW",
        "colab": {
          "base_uri": "https://localhost:8080/"
        },
        "outputId": "eb635c4c-db15-43f4-e2ea-c6d238ffb9e3"
      },
      "outputs": [
        {
          "output_type": "stream",
          "name": "stdout",
          "text": [
            "input number10\n",
            "576 factoraial   :\n"
          ]
        }
      ],
      "source": [
        "n=int(input(\"input number\"))\n",
        "\n",
        "for n in range (n):\n",
        "  c=n-1\n",
        "  j=n*c\n",
        "  n=c\n",
        "  j=j*n\n",
        "\n",
        "print(j,\"factoraial   :\")\n",
        "  "
      ]
    },
    {
      "cell_type": "code",
      "source": [],
      "metadata": {
        "id": "ZYE26Mt3rDKQ"
      },
      "execution_count": null,
      "outputs": []
    }
  ]
}