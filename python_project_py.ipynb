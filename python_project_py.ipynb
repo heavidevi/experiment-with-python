{
  "nbformat": 4,
  "nbformat_minor": 0,
  "metadata": {
    "colab": {
      "provenance": [],
      "authorship_tag": "ABX9TyMFAUTPWKYsdTc8BfsGR81L",
      "include_colab_link": true
    },
    "kernelspec": {
      "name": "python3",
      "display_name": "Python 3"
    },
    "language_info": {
      "name": "python"
    }
  },
  "cells": [
    {
      "cell_type": "markdown",
      "metadata": {
        "id": "view-in-github",
        "colab_type": "text"
      },
      "source": [
        "<a href=\"https://colab.research.google.com/github/heavidevi/experiment-with-python/blob/small-experiment/python_project_py.ipynb\" target=\"_parent\"><img src=\"https://colab.research.google.com/assets/colab-badge.svg\" alt=\"Open In Colab\"/></a>"
      ]
    },
    {
      "cell_type": "markdown",
      "source": [
        "Write a Python (or R) program that asks the user to enter an integer (X), then:\n",
        "\n",
        "Determines if X is prime or not\n",
        "If X is not prime, compute and print the factors of that integer X\n",
        "Evaluate and print the equation Y=8X²+ 1, for X values from -5 to 5 using the range function and for loop"
      ],
      "metadata": {
        "id": "ITSMU3IZ72kt"
      }
    },
    {
      "cell_type": "code",
      "execution_count": null,
      "metadata": {
        "id": "yZESkYdn7eWh",
        "colab": {
          "base_uri": "https://localhost:8080/"
        },
        "outputId": "069b28de-beb1-4255-b8c2-194eccc957fa"
      },
      "outputs": [
        {
          "output_type": "stream",
          "name": "stdout",
          "text": [
            "enter a number25\n",
            "False\n",
            "non-prime= 25\n",
            "1 25.0\n",
            "5 5.0\n",
            "-5\n",
            "201\n",
            "-4\n",
            "129\n",
            "-3\n",
            "73\n",
            "-2\n",
            "33\n",
            "-1\n",
            "9\n",
            "0\n",
            "1\n",
            "1\n",
            "9\n",
            "2\n",
            "33\n",
            "3\n",
            "73\n",
            "4\n",
            "129\n"
          ]
        }
      ],
      "source": [
        "\n",
        "\n",
        "x=int(input(\"enter a number\"))\n",
        "\n",
        "def prime(x):\n",
        "  if x<2:\n",
        "    return False\n",
        "\n",
        "  for i in range (2, (x-1)):\n",
        "    if y % i == 0:\n",
        "      return False\n",
        "\n",
        "  return True\n",
        "\n",
        "\n",
        "#if prime true\n",
        "#if non-prime false\n",
        "print(prime(x))\n",
        "if prime(x)==False:\n",
        "  print(\"non-prime=\", x)\n",
        "else :\n",
        "  print(\"prime=\", x)\n",
        "\n",
        "\n",
        "if prime(x)==False:\n",
        "    for y in range(1,9):\n",
        "\n",
        "      if x%y==0:\n",
        "        z=x/y\n",
        "\n",
        "        print (y,z)\n",
        "\n",
        "\n",
        "for X in range(-5,5):\n",
        "\n",
        "  Y=(8*X**2)+1\n",
        "  print(Y)\n",
        "\n",
        "\n"
      ]
    },
    {
      "cell_type": "code",
      "source": [
        "x=int(input(\"enter a number\"))\n",
        "\n",
        "def prime(x):\n",
        "  if x<2:\n",
        "    return False\n",
        "\n",
        "  for i in range (2, (x-1)):\n",
        "    if y % i == 0:\n",
        "      return False\n",
        "\n",
        "  return True\n",
        "\n",
        "\n",
        "print(prime(25))\n",
        ""
      ],
      "metadata": {
        "colab": {
          "base_uri": "https://localhost:8080/"
        },
        "id": "MJZddDkSc1_M",
        "outputId": "5c6fc797-d48a-4ab9-c7bc-5d2166ed3de3"
      },
      "execution_count": null,
      "outputs": [
        {
          "output_type": "stream",
          "name": "stdout",
          "text": [
            "enter a number25\n",
            "False\n"
          ]
        }
      ]
    },
    {
      "cell_type": "markdown",
      "source": [
        "code generaotor"
      ],
      "metadata": {
        "id": "dS5FzBbZnDuy"
      }
    },
    {
      "cell_type": "code",
      "source": [
        "#create a dict\n",
        "#convert the sentence into an array\n",
        "#then check against and join the array back into a new sentence\n",
        "\n",
        "dic={\"a\":\"1\",\"b\":\"2\",\"c\":\"3\",\"d\":\"4\"}\n",
        "def main():\n",
        "    sent=str(input(\"enter a sentence\"))\n",
        "    index=0\n",
        "    nsent=list(sent)\n",
        "    print(nsent)\n",
        "    index=0\n",
        "    for index in range(len(sent)):\n",
        "        for key,value in dic.items():\n",
        "\n",
        "            if nsent[index]==key:\n",
        "                nsent[index]=value\n",
        "\n",
        "\n",
        "\n",
        "\n",
        "\n",
        "    xsent=\"\".join(nsent)\n",
        "    print(x0sent)\n",
        "main()"
      ],
      "metadata": {
        "id": "BEEVn2KZnGw1",
        "outputId": "ccdbab23-22fa-4194-fbc6-213596c024fa",
        "colab": {
          "base_uri": "https://localhost:8080/"
        }
      },
      "execution_count": 32,
      "outputs": [
        {
          "output_type": "stream",
          "name": "stdout",
          "text": [
            "enter a sentenceabcd\n",
            "['a', 'b', 'c', 'd']\n",
            "1234\n"
          ]
        }
      ]
    }
  ]
}